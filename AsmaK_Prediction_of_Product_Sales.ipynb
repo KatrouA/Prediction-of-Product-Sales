{
  "nbformat": 4,
  "nbformat_minor": 0,
  "metadata": {
    "colab": {
      "provenance": [],
      "authorship_tag": "ABX9TyNAoA3a0kYZCeqzIwoVa30M",
      "include_colab_link": true
    },
    "kernelspec": {
      "name": "python3",
      "display_name": "Python 3"
    },
    "language_info": {
      "name": "python"
    }
  },
  "cells": [
    {
      "cell_type": "markdown",
      "metadata": {
        "id": "view-in-github",
        "colab_type": "text"
      },
      "source": [
        "<a href=\"https://colab.research.google.com/github/KatrouA/Prediction-of-Product-Sales/blob/main/AsmaK_Prediction_of_Product_Sales.ipynb\" target=\"_parent\"><img src=\"https://colab.research.google.com/assets/colab-badge.svg\" alt=\"Open In Colab\"/></a>"
      ]
    },
    {
      "cell_type": "code",
      "execution_count": null,
      "metadata": {
        "id": "SAlT9G5-fywT"
      },
      "outputs": [],
      "source": []
    },
    {
      "cell_type": "markdown",
      "source": [
        "# Prediction of Product Sales"
      ],
      "metadata": {
        "id": "_aLUPF0MgN58"
      }
    },
    {
      "cell_type": "markdown",
      "source": [
        "- Author: Asma Katrou"
      ],
      "metadata": {
        "id": "qqlThnxLhBX4"
      }
    },
    {
      "cell_type": "markdown",
      "source": [
        "## Project Overview"
      ],
      "metadata": {
        "id": "2dLV24bEhVlP"
      }
    },
    {
      "cell_type": "code",
      "source": [],
      "metadata": {
        "id": "u-xW-4DyiL46"
      },
      "execution_count": null,
      "outputs": []
    },
    {
      "cell_type": "markdown",
      "source": [
        "## Load and Inspect Data"
      ],
      "metadata": {
        "id": "ryeuaEyLha61"
      }
    },
    {
      "cell_type": "code",
      "source": [],
      "metadata": {
        "id": "GYCRY59miMgi"
      },
      "execution_count": null,
      "outputs": []
    },
    {
      "cell_type": "markdown",
      "source": [
        "## Clean Data"
      ],
      "metadata": {
        "id": "9dZDCJuuhell"
      }
    },
    {
      "cell_type": "code",
      "source": [],
      "metadata": {
        "id": "qm6x_s5MiNIB"
      },
      "execution_count": null,
      "outputs": []
    },
    {
      "cell_type": "markdown",
      "source": [
        "## Exploratory Data Analysis"
      ],
      "metadata": {
        "id": "Q_j9T8wthiGl"
      }
    },
    {
      "cell_type": "code",
      "source": [],
      "metadata": {
        "id": "c5HjgRQiiOV5"
      },
      "execution_count": null,
      "outputs": []
    },
    {
      "cell_type": "markdown",
      "source": [
        "## Feature Inspection"
      ],
      "metadata": {
        "id": "FH8oM0B_hkTk"
      }
    },
    {
      "cell_type": "code",
      "source": [],
      "metadata": {
        "id": "CEAIbkW6iPOC"
      },
      "execution_count": null,
      "outputs": []
    }
  ]
}